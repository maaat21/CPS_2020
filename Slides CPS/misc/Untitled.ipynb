{
 "cells": [
  {
   "cell_type": "code",
   "execution_count": 18,
   "metadata": {},
   "outputs": [],
   "source": [
    "a = [2, 4, 7, 1, 5, 6]"
   ]
  },
  {
   "cell_type": "code",
   "execution_count": 19,
   "metadata": {},
   "outputs": [
    {
     "name": "stdout",
     "output_type": "stream",
     "text": [
      "0,1: [2, 4, 7, 1, 5, 6]\n",
      "0,2: [2, 4, 7, 1, 5, 6]\n",
      "0,3: [2, 4, 7, 1, 5, 6]\n",
      "Swapped: [1, 4, 7, 2, 5, 6]\n",
      "0,4: [1, 4, 7, 2, 5, 6]\n",
      "0,5: [1, 4, 7, 2, 5, 6]\n",
      "1,2: [1, 4, 7, 2, 5, 6]\n",
      "1,3: [1, 4, 7, 2, 5, 6]\n",
      "Swapped: [1, 2, 7, 4, 5, 6]\n",
      "1,4: [1, 2, 7, 4, 5, 6]\n",
      "1,5: [1, 2, 7, 4, 5, 6]\n",
      "2,3: [1, 2, 7, 4, 5, 6]\n",
      "Swapped: [1, 2, 4, 7, 5, 6]\n",
      "2,4: [1, 2, 4, 7, 5, 6]\n",
      "2,5: [1, 2, 4, 7, 5, 6]\n",
      "3,4: [1, 2, 4, 7, 5, 6]\n",
      "Swapped: [1, 2, 4, 5, 7, 6]\n",
      "3,5: [1, 2, 4, 5, 7, 6]\n",
      "4,5: [1, 2, 4, 5, 7, 6]\n",
      "Swapped: [1, 2, 4, 5, 6, 7]\n",
      "[1, 2, 4, 5, 6, 7]\n"
     ]
    }
   ],
   "source": [
    "for i, e in enumerate(a):\n",
    "    for j in range(i+1, len(a)):\n",
    "        print(f'{i},{j}: {a}')\n",
    "        if(a[i] > a[j]):\n",
    "            swap(a, i, j)\n",
    "            print(f'Swapped: {a}')\n",
    "print(a)"
   ]
  },
  {
   "cell_type": "code",
   "execution_count": 12,
   "metadata": {},
   "outputs": [],
   "source": [
    "def swap(a, i, j):\n",
    "    temp = a[i]\n",
    "    a[i] = a[j]\n",
    "    a[j] = temp"
   ]
  },
  {
   "cell_type": "code",
   "execution_count": null,
   "metadata": {},
   "outputs": [],
   "source": []
  }
 ],
 "metadata": {
  "kernelspec": {
   "display_name": "Python 3",
   "language": "python",
   "name": "python3"
  },
  "language_info": {
   "codemirror_mode": {
    "name": "ipython",
    "version": 3
   },
   "file_extension": ".py",
   "mimetype": "text/x-python",
   "name": "python",
   "nbconvert_exporter": "python",
   "pygments_lexer": "ipython3",
   "version": "3.6.0"
  }
 },
 "nbformat": 4,
 "nbformat_minor": 4
}
